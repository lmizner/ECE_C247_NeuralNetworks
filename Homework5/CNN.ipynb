{
 "cells": [
  {
   "cell_type": "markdown",
   "metadata": {},
   "source": [
    "# Convolutional neural networks\n",
    "\n",
    "In this notebook, we'll put together our convolutional layers to implement a 3-layer CNN.  Then, we'll ask you to implement a CNN that can achieve > 65% validation error on CIFAR-10.\n",
    "\n",
    "CS231n has built a solid API for building these modular frameworks and training them, and we will use their very well implemented framework as opposed to \"reinventing the wheel.\"  This includes using their Solver, various utility functions, their layer structure, and their implementation of fast CNN layers.  This also includes nndl.fc_net, nndl.layers, and nndl.layer_utils.  As in prior assignments, we thank Serena Yeung & Justin Johnson for permission to use code written for the CS 231n class (cs231n.stanford.edu).  \n",
    "\n",
    "\n",
    "If you have not completed the Spatial BatchNorm Notebook, please see the following description from that notebook:\n",
    "\n",
    "Please copy and paste your prior implemented code from HW #4 to start this assignment.  If you did not correctly implement the layers in HW #4, you may collaborate with a classmate to use their layer implementations from HW #4.  You may also visit TA or Prof OH to correct your implementation.  \n",
    "\n",
    "You'll want to copy and paste from HW #4:\n",
    "    - layers.py for your FC network layers, as well as batchnorm and dropout.\n",
    "    - layer_utils.py for your combined FC network layers.\n",
    "    - optim.py for your optimizers.\n",
    "\n",
    "Be sure to place these in the `nndl/` directory so they're imported correctly.  Note, as announced in class, we will not be releasing our solutions."
   ]
  },
  {
   "cell_type": "code",
   "execution_count": 2,
   "metadata": {},
   "outputs": [
    {
     "name": "stdout",
     "output_type": "stream",
     "text": [
      "/Users/laurenmizner/Desktop/HW5_code/utils\n"
     ]
    }
   ],
   "source": [
    "cd utils/"
   ]
  },
  {
   "cell_type": "code",
   "execution_count": 4,
   "metadata": {},
   "outputs": [
    {
     "name": "stdout",
     "output_type": "stream",
     "text": [
      "Compiling im2col_cython.pyx because it changed.\n",
      "[1/1] Cythonizing im2col_cython.pyx\n",
      "In file included from im2col_cython.c:1214:\n",
      "In file included from /Users/laurenmizner/anaconda3/lib/python3.11/site-packages/numpy/core/include/numpy/arrayobject.h:5:\n",
      "In file included from /Users/laurenmizner/anaconda3/lib/python3.11/site-packages/numpy/core/include/numpy/ndarrayobject.h:12:\n",
      "In file included from /Users/laurenmizner/anaconda3/lib/python3.11/site-packages/numpy/core/include/numpy/ndarraytypes.h:1940:\n",
      "\u001b[1m/Users/laurenmizner/anaconda3/lib/python3.11/site-packages/numpy/core/include/numpy/npy_1_7_deprecated_api.h:17:2: \u001b[0m\u001b[0;1;35mwarning: \u001b[0m\u001b[1m\"Using deprecated NumPy API, disable it with \"          \"#define NPY_NO_DEPRECATED_API NPY_1_7_API_VERSION\" [-W#warnings]\u001b[0m\n",
      "#warning \"Using deprecated NumPy API, disable it with \" \\\n",
      "\u001b[0;1;32m ^\n",
      "\u001b[0m1 warning generated.\n"
     ]
    }
   ],
   "source": [
    "!python setup.py build_ext --inplace"
   ]
  },
  {
   "cell_type": "code",
   "execution_count": 5,
   "metadata": {},
   "outputs": [
    {
     "name": "stdout",
     "output_type": "stream",
     "text": [
      "/Users/laurenmizner/Desktop/HW5_code\n"
     ]
    }
   ],
   "source": [
    "cd .."
   ]
  },
  {
   "cell_type": "code",
   "execution_count": 6,
   "metadata": {},
   "outputs": [],
   "source": [
    "# As usual, a bit of setup\n",
    "\n",
    "import numpy as np\n",
    "import matplotlib.pyplot as plt\n",
    "from nndl.cnn import *\n",
    "from utils.data_utils import get_CIFAR10_data\n",
    "from utils.gradient_check import eval_numerical_gradient_array, eval_numerical_gradient\n",
    "from nndl.layers import *\n",
    "from nndl.conv_layers import *\n",
    "from utils.fast_layers import *\n",
    "from utils.solver import Solver\n",
    "\n",
    "%matplotlib inline\n",
    "plt.rcParams['figure.figsize'] = (10.0, 8.0) # set default size of plots\n",
    "plt.rcParams['image.interpolation'] = 'nearest'\n",
    "plt.rcParams['image.cmap'] = 'gray'\n",
    "\n",
    "# for auto-reloading external modules\n",
    "# see http://stackoverflow.com/questions/1907993/autoreload-of-modules-in-ipython\n",
    "%load_ext autoreload\n",
    "%autoreload 2\n",
    "\n",
    "def rel_error(x, y):\n",
    "  \"\"\" returns relative error \"\"\"\n",
    "  return np.max(np.abs(x - y) / (np.maximum(1e-8, np.abs(x) + np.abs(y))))"
   ]
  },
  {
   "cell_type": "code",
   "execution_count": 7,
   "metadata": {},
   "outputs": [
    {
     "name": "stdout",
     "output_type": "stream",
     "text": [
      "X_train: (49000, 3, 32, 32) \n",
      "y_train: (49000,) \n",
      "X_val: (1000, 3, 32, 32) \n",
      "y_val: (1000,) \n",
      "X_test: (1000, 3, 32, 32) \n",
      "y_test: (1000,) \n"
     ]
    }
   ],
   "source": [
    "# Load the (preprocessed) CIFAR10 data.\n",
    "\n",
    "data = get_CIFAR10_data()\n",
    "for k in data.keys():\n",
    "  print('{}: {} '.format(k, data[k].shape))"
   ]
  },
  {
   "cell_type": "markdown",
   "metadata": {},
   "source": [
    "## Three layer CNN\n",
    "\n",
    "In this notebook, you will implement a three layer CNN.  The `ThreeLayerConvNet` class is in `nndl/cnn.py`.  You'll need to modify that code for this section, including the initialization, as well as the calculation of the loss and gradients.  You should be able to use the building blocks you have either earlier coded or that we have provided.  Be sure to use the fast layers.\n",
    "\n",
    "The architecture of this CNN will be:\n",
    "\n",
    "conv - relu - 2x2 max pool - affine - relu - affine - softmax\n",
    "\n",
    "We won't use batchnorm yet.  You've also done enough of these to know how to debug; use the cells below.\n",
    "\n",
    "Note: As we are implementing several layers CNN networks. The gradient error can be expected for the `eval_numerical_gradient()` function. If your `W1 max relative error` and `W2 max relative error` are around or below 0.01, they should be acceptable. Other errors should be less than 1e-5. "
   ]
  },
  {
   "cell_type": "code",
   "execution_count": 8,
   "metadata": {},
   "outputs": [
    {
     "name": "stdout",
     "output_type": "stream",
     "text": [
      "W1 max relative error: 0.004147546186348527\n",
      "W2 max relative error: 0.006722847977050636\n",
      "W3 max relative error: 0.0001390901280953785\n",
      "b1 max relative error: 2.8800944694502115e-05\n",
      "b2 max relative error: 1.4366928136300562e-06\n",
      "b3 max relative error: 8.707089944988737e-10\n"
     ]
    }
   ],
   "source": [
    "num_inputs = 2\n",
    "input_dim = (3, 16, 16)\n",
    "reg = 0.0\n",
    "num_classes = 10\n",
    "X = np.random.randn(num_inputs, *input_dim)\n",
    "y = np.random.randint(num_classes, size=num_inputs)\n",
    "\n",
    "model = ThreeLayerConvNet(num_filters=3, filter_size=3,\n",
    "                          input_dim=input_dim, hidden_dim=7,\n",
    "                          dtype=np.float64)\n",
    "loss, grads = model.loss(X, y)\n",
    "for param_name in sorted(grads):\n",
    "    f = lambda _: model.loss(X, y)[0]\n",
    "    param_grad_num = eval_numerical_gradient(f, model.params[param_name], verbose=False, h=1e-6)\n",
    "    e = rel_error(param_grad_num, grads[param_name])\n",
    "    print('{} max relative error: {}'.format(param_name, rel_error(param_grad_num, grads[param_name])))"
   ]
  },
  {
   "cell_type": "markdown",
   "metadata": {},
   "source": [
    "### Overfit small dataset\n",
    "\n",
    "To check your CNN implementation, let's overfit a small dataset."
   ]
  },
  {
   "cell_type": "code",
   "execution_count": 9,
   "metadata": {},
   "outputs": [
    {
     "name": "stdout",
     "output_type": "stream",
     "text": [
      "(Iteration 1 / 20) loss: 2.369075\n",
      "(Epoch 0 / 10) train acc: 0.210000; val_acc: 0.128000\n",
      "(Iteration 2 / 20) loss: 3.533574\n",
      "(Epoch 1 / 10) train acc: 0.130000; val_acc: 0.112000\n",
      "(Iteration 3 / 20) loss: 2.631052\n",
      "(Iteration 4 / 20) loss: 2.665893\n",
      "(Epoch 2 / 10) train acc: 0.250000; val_acc: 0.140000\n",
      "(Iteration 5 / 20) loss: 2.236019\n",
      "(Iteration 6 / 20) loss: 2.102034\n",
      "(Epoch 3 / 10) train acc: 0.380000; val_acc: 0.180000\n",
      "(Iteration 7 / 20) loss: 1.820703\n",
      "(Iteration 8 / 20) loss: 1.925734\n",
      "(Epoch 4 / 10) train acc: 0.440000; val_acc: 0.177000\n",
      "(Iteration 9 / 20) loss: 1.627731\n",
      "(Iteration 10 / 20) loss: 1.283341\n",
      "(Epoch 5 / 10) train acc: 0.650000; val_acc: 0.173000\n",
      "(Iteration 11 / 20) loss: 1.125391\n",
      "(Iteration 12 / 20) loss: 1.312432\n",
      "(Epoch 6 / 10) train acc: 0.630000; val_acc: 0.197000\n",
      "(Iteration 13 / 20) loss: 1.225290\n",
      "(Iteration 14 / 20) loss: 0.999850\n",
      "(Epoch 7 / 10) train acc: 0.730000; val_acc: 0.157000\n",
      "(Iteration 15 / 20) loss: 1.164759\n",
      "(Iteration 16 / 20) loss: 0.663224\n",
      "(Epoch 8 / 10) train acc: 0.850000; val_acc: 0.212000\n",
      "(Iteration 17 / 20) loss: 0.753294\n",
      "(Iteration 18 / 20) loss: 0.538755\n",
      "(Epoch 9 / 10) train acc: 0.860000; val_acc: 0.236000\n",
      "(Iteration 19 / 20) loss: 0.450970\n",
      "(Iteration 20 / 20) loss: 0.299249\n",
      "(Epoch 10 / 10) train acc: 0.880000; val_acc: 0.249000\n"
     ]
    }
   ],
   "source": [
    "num_train = 100\n",
    "small_data = {\n",
    "  'X_train': data['X_train'][:num_train],\n",
    "  'y_train': data['y_train'][:num_train],\n",
    "  'X_val': data['X_val'],\n",
    "  'y_val': data['y_val'],\n",
    "}\n",
    "\n",
    "model = ThreeLayerConvNet(weight_scale=1e-2)\n",
    "\n",
    "solver = Solver(model, small_data,\n",
    "                num_epochs=10, batch_size=50,\n",
    "                update_rule='adam',\n",
    "                optim_config={\n",
    "                  'learning_rate': 1e-3,\n",
    "                },\n",
    "                verbose=True, print_every=1)\n",
    "solver.train()"
   ]
  },
  {
   "cell_type": "code",
   "execution_count": 10,
   "metadata": {},
   "outputs": [
    {
     "data": {
      "image/png": "[encoded data removed]",
      "text/plain": [
       "<Figure size 1000x800 with 2 Axes>"
      ]
     },
     "metadata": {},
     "output_type": "display_data"
    }
   ],
   "source": [
    "plt.subplot(2, 1, 1)\n",
    "plt.plot(solver.loss_history, 'o')\n",
    "plt.xlabel('iteration')\n",
    "plt.ylabel('loss')\n",
    "\n",
    "plt.subplot(2, 1, 2)\n",
    "plt.plot(solver.train_acc_history, '-o')\n",
    "plt.plot(solver.val_acc_history, '-o')\n",
    "plt.legend(['train', 'val'], loc='upper left')\n",
    "plt.xlabel('epoch')\n",
    "plt.ylabel('accuracy')\n",
    "plt.show()"
   ]
  },
  {
   "cell_type": "markdown",
   "metadata": {},
   "source": [
    "## Train the network\n",
    "\n",
    "Now we train the 3 layer CNN on CIFAR-10 and assess its accuracy."
   ]
  },
  {
   "cell_type": "code",
   "execution_count": 11,
   "metadata": {},
   "outputs": [
    {
     "name": "stdout",
     "output_type": "stream",
     "text": [
      "(Iteration 1 / 980) loss: 2.304841\n",
      "(Epoch 0 / 1) train acc: 0.108000; val_acc: 0.105000\n",
      "(Iteration 21 / 980) loss: 2.020895\n",
      "(Iteration 41 / 980) loss: 1.793995\n",
      "(Iteration 61 / 980) loss: 2.131264\n",
      "(Iteration 81 / 980) loss: 2.003909\n",
      "(Iteration 101 / 980) loss: 1.837416\n",
      "(Iteration 121 / 980) loss: 1.939973\n",
      "(Iteration 141 / 980) loss: 1.675570\n",
      "(Iteration 161 / 980) loss: 2.301384\n",
      "(Iteration 181 / 980) loss: 1.634294\n",
      "(Iteration 201 / 980) loss: 1.684754\n",
      "(Iteration 221 / 980) loss: 1.947473\n",
      "(Iteration 241 / 980) loss: 1.713923\n",
      "(Iteration 261 / 980) loss: 1.578784\n",
      "(Iteration 281 / 980) loss: 1.599504\n",
      "(Iteration 301 / 980) loss: 1.646518\n",
      "(Iteration 321 / 980) loss: 1.517937\n",
      "(Iteration 341 / 980) loss: 1.765753\n",
      "(Iteration 361 / 980) loss: 1.614791\n",
      "(Iteration 381 / 980) loss: 1.874534\n",
      "(Iteration 401 / 980) loss: 1.870381\n",
      "(Iteration 421 / 980) loss: 1.517219\n",
      "(Iteration 441 / 980) loss: 1.567876\n",
      "(Iteration 461 / 980) loss: 1.786962\n",
      "(Iteration 481 / 980) loss: 1.858379\n",
      "(Iteration 501 / 980) loss: 1.763954\n",
      "(Iteration 521 / 980) loss: 1.517355\n",
      "(Iteration 541 / 980) loss: 1.773141\n",
      "(Iteration 561 / 980) loss: 1.873571\n",
      "(Iteration 581 / 980) loss: 1.796635\n",
      "(Iteration 601 / 980) loss: 1.566651\n",
      "(Iteration 621 / 980) loss: 2.084669\n",
      "(Iteration 641 / 980) loss: 1.446041\n",
      "(Iteration 661 / 980) loss: 1.592295\n",
      "(Iteration 681 / 980) loss: 1.621056\n",
      "(Iteration 701 / 980) loss: 1.478616\n",
      "(Iteration 721 / 980) loss: 1.638065\n",
      "(Iteration 741 / 980) loss: 1.838436\n",
      "(Iteration 761 / 980) loss: 1.644915\n",
      "(Iteration 781 / 980) loss: 1.558583\n",
      "(Iteration 801 / 980) loss: 1.521206\n",
      "(Iteration 821 / 980) loss: 1.734041\n",
      "(Iteration 841 / 980) loss: 1.227889\n",
      "(Iteration 861 / 980) loss: 1.676031\n",
      "(Iteration 881 / 980) loss: 1.577834\n",
      "(Iteration 901 / 980) loss: 1.824728\n",
      "(Iteration 921 / 980) loss: 1.331924\n",
      "(Iteration 941 / 980) loss: 1.534416\n",
      "(Iteration 961 / 980) loss: 1.427034\n",
      "(Epoch 1 / 1) train acc: 0.479000; val_acc: 0.465000\n"
     ]
    }
   ],
   "source": [
    "model = ThreeLayerConvNet(weight_scale=0.001, hidden_dim=500, reg=0.001)\n",
    "\n",
    "solver = Solver(model, data,\n",
    "                num_epochs=1, batch_size=50,\n",
    "                update_rule='adam',\n",
    "                optim_config={\n",
    "                  'learning_rate': 1e-3,\n",
    "                },\n",
    "                verbose=True, print_every=20)\n",
    "solver.train()"
   ]
  },
  {
   "cell_type": "markdown",
   "metadata": {},
   "source": [
    "# Get > 65% validation accuracy on CIFAR-10.\n",
    "\n",
    "In the last part of the assignment, we'll now ask you to train a CNN to get better than 65% validation accuracy on CIFAR-10.\n",
    "\n",
    "### Things you should try:\n",
    "- Filter size: Above we used 7x7; but VGGNet and onwards showed stacks of 3x3 filters are good.  \n",
    "- Number of filters: Above we used 32 filters. Do more or fewer do better?\n",
    "- Batch normalization: Try adding spatial batch normalization after convolution layers and vanilla batch normalization aafter affine layers. Do your networks train faster?\n",
    "- Network architecture: Can a deeper CNN do better?  Consider these architectures:\n",
    "    - [conv-relu-pool]xN - conv - relu - [affine]xM - [softmax or SVM]\n",
    "    - [conv-relu-pool]XN - [affine]XM - [softmax or SVM]\n",
    "    - [conv-relu-conv-relu-pool]xN - [affine]xM - [softmax or SVM]\n",
    "\n",
    "### Tips for training\n",
    "For each network architecture that you try, you should tune the learning rate and regularization strength. When doing this there are a couple important things to keep in mind:\n",
    "\n",
    "- If the parameters are working well, you should see improvement within a few hundred iterations\n",
    "- Remember the coarse-to-fine approach for hyperparameter tuning: start by testing a large range of hyperparameters for just a few training iterations to find the combinations of parameters that are working at all.\n",
    "- Once you have found some sets of parameters that seem to work, search more finely around these parameters. You may need to train for more epochs."
   ]
  },
  {
   "cell_type": "code",
   "execution_count": 13,
   "metadata": {},
   "outputs": [
    {
     "name": "stdout",
     "output_type": "stream",
     "text": [
      "(Iteration 1 / 980) loss: 2.306698\n",
      "(Epoch 0 / 10) train acc: 0.099000; val_acc: 0.108000\n",
      "(Iteration 16 / 980) loss: 1.937175\n",
      "(Iteration 31 / 980) loss: 1.821501\n",
      "(Iteration 46 / 980) loss: 1.581615\n",
      "(Iteration 61 / 980) loss: 1.465079\n",
      "(Iteration 76 / 980) loss: 1.427047\n",
      "(Iteration 91 / 980) loss: 1.459597\n",
      "(Epoch 1 / 10) train acc: 0.564000; val_acc: 0.542000\n",
      "(Iteration 106 / 980) loss: 1.320561\n",
      "(Iteration 121 / 980) loss: 1.252504\n",
      "(Iteration 136 / 980) loss: 1.277858\n",
      "(Iteration 151 / 980) loss: 1.279984\n",
      "(Iteration 166 / 980) loss: 1.237186\n",
      "(Iteration 181 / 980) loss: 1.315742\n",
      "(Iteration 196 / 980) loss: 1.142598\n",
      "(Epoch 2 / 10) train acc: 0.630000; val_acc: 0.595000\n",
      "(Iteration 211 / 980) loss: 1.219741\n",
      "(Iteration 226 / 980) loss: 1.096180\n",
      "(Iteration 241 / 980) loss: 1.054497\n",
      "(Iteration 256 / 980) loss: 1.016877\n",
      "(Iteration 271 / 980) loss: 1.063627\n",
      "(Iteration 286 / 980) loss: 1.187030\n",
      "(Epoch 3 / 10) train acc: 0.670000; val_acc: 0.588000\n",
      "(Iteration 301 / 980) loss: 1.100741\n",
      "(Iteration 316 / 980) loss: 1.069353\n",
      "(Iteration 331 / 980) loss: 1.034928\n",
      "(Iteration 346 / 980) loss: 1.075035\n",
      "(Iteration 361 / 980) loss: 0.998673\n",
      "(Iteration 376 / 980) loss: 1.018359\n",
      "(Iteration 391 / 980) loss: 0.973009\n",
      "(Epoch 4 / 10) train acc: 0.699000; val_acc: 0.627000\n",
      "(Iteration 406 / 980) loss: 0.900941\n",
      "(Iteration 421 / 980) loss: 0.986948\n",
      "(Iteration 436 / 980) loss: 0.968038\n",
      "(Iteration 451 / 980) loss: 0.935767\n",
      "(Iteration 466 / 980) loss: 0.829096\n",
      "(Iteration 481 / 980) loss: 0.904094\n",
      "(Epoch 5 / 10) train acc: 0.733000; val_acc: 0.616000\n",
      "(Iteration 496 / 980) loss: 0.970630\n",
      "(Iteration 511 / 980) loss: 0.819571\n",
      "(Iteration 526 / 980) loss: 0.867479\n",
      "(Iteration 541 / 980) loss: 0.838587\n",
      "(Iteration 556 / 980) loss: 0.860738\n",
      "(Iteration 571 / 980) loss: 0.798470\n",
      "(Iteration 586 / 980) loss: 0.745234\n",
      "(Epoch 6 / 10) train acc: 0.807000; val_acc: 0.652000\n",
      "(Iteration 601 / 980) loss: 0.726519\n",
      "(Iteration 616 / 980) loss: 0.752761\n",
      "(Iteration 631 / 980) loss: 0.779818\n",
      "(Iteration 646 / 980) loss: 0.842775\n",
      "(Iteration 661 / 980) loss: 0.749244\n",
      "(Iteration 676 / 980) loss: 0.786579\n",
      "(Epoch 7 / 10) train acc: 0.814000; val_acc: 0.643000\n",
      "(Iteration 691 / 980) loss: 0.711420\n",
      "(Iteration 706 / 980) loss: 0.707550\n",
      "(Iteration 721 / 980) loss: 0.710285\n",
      "(Iteration 736 / 980) loss: 0.641487\n",
      "(Iteration 751 / 980) loss: 0.655162\n",
      "(Iteration 766 / 980) loss: 0.611495\n",
      "(Iteration 781 / 980) loss: 0.758818\n",
      "(Epoch 8 / 10) train acc: 0.812000; val_acc: 0.656000\n",
      "(Iteration 796 / 980) loss: 0.606863\n",
      "(Iteration 811 / 980) loss: 0.578487\n",
      "(Iteration 826 / 980) loss: 0.643684\n",
      "(Iteration 841 / 980) loss: 0.572501\n",
      "(Iteration 856 / 980) loss: 0.559016\n",
      "(Iteration 871 / 980) loss: 0.576066\n",
      "(Epoch 9 / 10) train acc: 0.835000; val_acc: 0.647000\n",
      "(Iteration 886 / 980) loss: 0.550099\n",
      "(Iteration 901 / 980) loss: 0.525217\n",
      "(Iteration 916 / 980) loss: 0.512460\n",
      "(Iteration 931 / 980) loss: 0.537521\n",
      "(Iteration 946 / 980) loss: 0.555700\n",
      "(Iteration 961 / 980) loss: 0.507316\n",
      "(Iteration 976 / 980) loss: 0.530523\n",
      "(Epoch 10 / 10) train acc: 0.877000; val_acc: 0.679000\n"
     ]
    }
   ],
   "source": [
    "# ================================================================ #\n",
    "# YOUR CODE HERE:\n",
    "#   Implement a CNN to achieve greater than 65% validation accuracy\n",
    "#   on CIFAR-10.\n",
    "# ================================================================ #\n",
    "\n",
    "model = ThreeLayerConvNet(weight_scale = 0.001, hidden_dim = 500, \n",
    "                          reg = 0.001, num_filters = 64, filter_size = 3)\n",
    "\n",
    "solver = Solver(model, data, num_epochs = 10, batch_size = 500, \n",
    "                update_rule = 'adam', optim_config = {'learning_rate': 1e-3,},\n",
    "                lr_decay = 0.9, verbose = True, print_every = 15)\n",
    "\n",
    "solver.train()\n",
    "\n",
    "# ================================================================ #\n",
    "# END YOUR CODE HERE\n",
    "# ================================================================ #\n"
   ]
  },
  {
   "cell_type": "code",
   "execution_count": null,
   "metadata": {},
   "outputs": [],
   "source": []
  }
 ],
 "metadata": {
  "kernelspec": {
   "display_name": "Python 3 (ipykernel)",
   "language": "python",
   "name": "python3"
  },
  "language_info": {
   "codemirror_mode": {
    "name": "ipython",
    "version": 3
   },
   "file_extension": ".py",
   "mimetype": "text/x-python",
   "name": "python",
   "nbconvert_exporter": "python",
   "pygments_lexer": "ipython3",
   "version": "3.11.6"
  }
 },
 "nbformat": 4,
 "nbformat_minor": 4
}
