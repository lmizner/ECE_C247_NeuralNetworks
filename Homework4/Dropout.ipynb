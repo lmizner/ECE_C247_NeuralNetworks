{
 "cells": [
  {
   "cell_type": "markdown",
   "metadata": {},
   "source": [
    "# Dropout\n",
    "\n",
    "In this notebook, you will implement dropout.  Then we will ask you to train a network with batchnorm and dropout, and acheive over 55% accuracy on CIFAR-10.\n",
    "\n",
    "CS231n has built a solid API for building these modular frameworks and training them, and we will use their very well implemented framework as opposed to \"reinventing the wheel.\"  This includes using their Solver, various utility functions, and their layer structure.  This also includes nndl.fc_net, nndl.layers, and nndl.layer_utils.  As in prior assignments, we thank Serena Yeung & Justin Johnson for permission to use code written for the CS 231n class (cs231n.stanford.edu).  "
   ]
  },
  {
   "cell_type": "code",
   "execution_count": 1,
   "metadata": {},
   "outputs": [],
   "source": [
    "## Import and setups\n",
    "\n",
    "import time\n",
    "import numpy as np\n",
    "import matplotlib.pyplot as plt\n",
    "from nndl.fc_net import *\n",
    "from nndl.layers import *\n",
    "from utils.data_utils import get_CIFAR10_data\n",
    "from utils.gradient_check import eval_numerical_gradient, eval_numerical_gradient_array\n",
    "from utils.solver import Solver\n",
    "\n",
    "%matplotlib inline\n",
    "plt.rcParams['figure.figsize'] = (10.0, 8.0) # set default size of plots\n",
    "plt.rcParams['image.interpolation'] = 'nearest'\n",
    "plt.rcParams['image.cmap'] = 'gray'\n",
    "\n",
    "# for auto-reloading external modules\n",
    "# see http://stackoverflow.com/questions/1907993/autoreload-of-modules-in-ipython\n",
    "%load_ext autoreload\n",
    "%autoreload 2\n",
    "\n",
    "def rel_error(x, y):\n",
    "  \"\"\" returns relative error \"\"\"\n",
    "  return np.max(np.abs(x - y) / (np.maximum(1e-8, np.abs(x) + np.abs(y))))"
   ]
  },
  {
   "cell_type": "code",
   "execution_count": 2,
   "metadata": {},
   "outputs": [
    {
     "name": "stdout",
     "output_type": "stream",
     "text": [
      "X_train: (49000, 3, 32, 32) \n",
      "y_train: (49000,) \n",
      "X_val: (1000, 3, 32, 32) \n",
      "y_val: (1000,) \n",
      "X_test: (1000, 3, 32, 32) \n",
      "y_test: (1000,) \n"
     ]
    }
   ],
   "source": [
    "# Load the (preprocessed) CIFAR10 data.\n",
    "\n",
    "data = get_CIFAR10_data()\n",
    "for k in data.keys():\n",
    "  print('{}: {} '.format(k, data[k].shape))"
   ]
  },
  {
   "cell_type": "markdown",
   "metadata": {},
   "source": [
    "## Dropout forward pass\n",
    "\n",
    "Implement the training and test time dropout forward pass, `dropout_forward`, in `nndl/layers.py`. After that, test your implementation by running the following cell."
   ]
  },
  {
   "cell_type": "code",
   "execution_count": 3,
   "metadata": {},
   "outputs": [
    {
     "name": "stdout",
     "output_type": "stream",
     "text": [
      "Running tests with p =  0.3\n",
      "Mean of input:  10.000802094202486\n",
      "Mean of train-time output:  10.01824248055032\n",
      "Mean of test-time output:  10.000802094202486\n",
      "Fraction of train-time output set to zero:  0.298748\n",
      "Fraction of test-time output set to zero:  0.0\n",
      "Running tests with p =  0.6\n",
      "Mean of input:  10.000802094202486\n",
      "Mean of train-time output:  9.949734904052704\n",
      "Mean of test-time output:  10.000802094202486\n",
      "Fraction of train-time output set to zero:  0.60194\n",
      "Fraction of test-time output set to zero:  0.0\n",
      "Running tests with p =  0.75\n",
      "Mean of input:  10.000802094202486\n",
      "Mean of train-time output:  10.032380242418133\n",
      "Mean of test-time output:  10.000802094202486\n",
      "Fraction of train-time output set to zero:  0.749248\n",
      "Fraction of test-time output set to zero:  0.0\n"
     ]
    }
   ],
   "source": [
    "x = np.random.randn(500, 500) + 10\n",
    "\n",
    "for p in [0.3, 0.6, 0.75]:\n",
    "  out, _ = dropout_forward(x, {'mode': 'train', 'p': p})\n",
    "  out_test, _ = dropout_forward(x, {'mode': 'test', 'p': p})\n",
    "\n",
    "  print('Running tests with p = ', p)\n",
    "  print('Mean of input: ', x.mean())\n",
    "  print('Mean of train-time output: ', out.mean())\n",
    "  print('Mean of test-time output: ', out_test.mean())\n",
    "  print('Fraction of train-time output set to zero: ', (out == 0).mean())\n",
    "  print('Fraction of test-time output set to zero: ', (out_test == 0).mean())"
   ]
  },
  {
   "cell_type": "markdown",
   "metadata": {},
   "source": [
    "## Dropout backward pass\n",
    "\n",
    "Implement the backward pass, `dropout_backward`, in `nndl/layers.py`.  After that, test your gradients by running the following cell:"
   ]
  },
  {
   "cell_type": "code",
   "execution_count": 4,
   "metadata": {},
   "outputs": [
    {
     "name": "stdout",
     "output_type": "stream",
     "text": [
      "dx relative error:  1.8929054506900838e-11\n"
     ]
    }
   ],
   "source": [
    "x = np.random.randn(10, 10) + 10\n",
    "dout = np.random.randn(*x.shape)\n",
    "\n",
    "dropout_param = {'mode': 'train', 'p': 0.8, 'seed': 123}\n",
    "out, cache = dropout_forward(x, dropout_param)\n",
    "dx = dropout_backward(dout, cache)\n",
    "dx_num = eval_numerical_gradient_array(lambda xx: dropout_forward(xx, dropout_param)[0], x, dout)\n",
    "\n",
    "print('dx relative error: ', rel_error(dx, dx_num))"
   ]
  },
  {
   "cell_type": "markdown",
   "metadata": {},
   "source": [
    "## Implement a fully connected neural network with dropout layers\n",
    "\n",
    "Modify the `FullyConnectedNet()` class in `nndl/fc_net.py` to incorporate dropout.  A dropout layer should be incorporated after every ReLU layer.  Concretely, there shouldn't be a dropout at the output layer since there is no ReLU at the output layer. You will need to modify the class in the following areas:\n",
    "\n",
    "(1) In the forward pass, you will need to incorporate a dropout layer after every relu layer.\n",
    "\n",
    "(2) In the backward pass, you will need to incorporate a dropout backward pass layer.\n",
    "\n",
    "Check your implementation by running the following code.  Our W1 gradient relative error is on the order of 1e-6 (the largest of all the relative errors)."
   ]
  },
  {
   "cell_type": "code",
   "execution_count": 5,
   "metadata": {},
   "outputs": [
    {
     "name": "stdout",
     "output_type": "stream",
     "text": [
      "Running check with dropout =  0\n",
      "Initial loss:  2.3051948273987857\n",
      "W1 relative error: 2.5272575344376073e-07\n",
      "W2 relative error: 1.5034484929313676e-05\n",
      "W3 relative error: 2.753446833630168e-07\n",
      "b1 relative error: 2.936957476400148e-06\n",
      "b2 relative error: 5.051339805546953e-08\n",
      "b3 relative error: 1.1740467838205477e-10\n",
      "\n",
      "\n",
      "Running check with dropout =  0.25\n",
      "Initial loss:  2.3052077546540826\n",
      "W1 relative error: 2.613846944812385e-07\n",
      "W2 relative error: 5.022056536108928e-07\n",
      "W3 relative error: 4.456316077044505e-08\n",
      "b1 relative error: 7.39711723790801e-08\n",
      "b2 relative error: 7.151678402730031e-10\n",
      "b3 relative error: 1.003974732116764e-10\n",
      "\n",
      "\n",
      "Running check with dropout =  0.5\n",
      "Initial loss:  2.3035667586595423\n",
      "W1 relative error: 1.1401257458777745e-06\n",
      "W2 relative error: 1.847669681023635e-07\n",
      "W3 relative error: 6.5966195253431734e-09\n",
      "b1 relative error: 7.71639621892128e-08\n",
      "b2 relative error: 1.1975910493629166e-09\n",
      "b3 relative error: 1.4558471033827801e-10\n",
      "\n",
      "\n"
     ]
    }
   ],
   "source": [
    "N, D, H1, H2, C = 2, 15, 20, 30, 10\n",
    "X = np.random.randn(N, D)\n",
    "y = np.random.randint(C, size=(N,))\n",
    "\n",
    "for dropout in [0, 0.25, 0.5]:\n",
    "  print('Running check with dropout = ', dropout)\n",
    "  model = FullyConnectedNet([H1, H2], input_dim=D, num_classes=C,\n",
    "                            weight_scale=5e-2, dtype=np.float64,\n",
    "                            dropout=dropout, seed=123)\n",
    "\n",
    "  loss, grads = model.loss(X, y)\n",
    "  print('Initial loss: ', loss)\n",
    "\n",
    "  for name in sorted(grads):\n",
    "    f = lambda _: model.loss(X, y)[0]\n",
    "    grad_num = eval_numerical_gradient(f, model.params[name], verbose=False, h=1e-5)\n",
    "    print('{} relative error: {}'.format(name, rel_error(grad_num, grads[name])))\n",
    "  print('\\n')"
   ]
  },
  {
   "cell_type": "markdown",
   "metadata": {},
   "source": [
    "## Dropout as a regularizer\n",
    "\n",
    "In class, we claimed that dropout acts as a regularizer by effectively bagging.  To check this, we will train two small networks, one with dropout and one without dropout.  "
   ]
  },
  {
   "cell_type": "code",
   "execution_count": 6,
   "metadata": {},
   "outputs": [
    {
     "name": "stdout",
     "output_type": "stream",
     "text": [
      "(Iteration 1 / 125) loss: 2.300804\n",
      "(Epoch 0 / 25) train acc: 0.220000; val_acc: 0.168000\n",
      "(Epoch 1 / 25) train acc: 0.188000; val_acc: 0.147000\n",
      "(Epoch 2 / 25) train acc: 0.266000; val_acc: 0.200000\n",
      "(Epoch 3 / 25) train acc: 0.338000; val_acc: 0.262000\n",
      "(Epoch 4 / 25) train acc: 0.378000; val_acc: 0.278000\n",
      "(Epoch 5 / 25) train acc: 0.428000; val_acc: 0.297000\n",
      "(Epoch 6 / 25) train acc: 0.468000; val_acc: 0.323000\n",
      "(Epoch 7 / 25) train acc: 0.494000; val_acc: 0.287000\n",
      "(Epoch 8 / 25) train acc: 0.566000; val_acc: 0.328000\n",
      "(Epoch 9 / 25) train acc: 0.572000; val_acc: 0.322000\n",
      "(Epoch 10 / 25) train acc: 0.622000; val_acc: 0.324000\n",
      "(Epoch 11 / 25) train acc: 0.670000; val_acc: 0.279000\n",
      "(Epoch 12 / 25) train acc: 0.710000; val_acc: 0.338000\n",
      "(Epoch 13 / 25) train acc: 0.746000; val_acc: 0.319000\n",
      "(Epoch 14 / 25) train acc: 0.792000; val_acc: 0.307000\n",
      "(Epoch 15 / 25) train acc: 0.834000; val_acc: 0.297000\n",
      "(Epoch 16 / 25) train acc: 0.876000; val_acc: 0.327000\n",
      "(Epoch 17 / 25) train acc: 0.886000; val_acc: 0.320000\n",
      "(Epoch 18 / 25) train acc: 0.918000; val_acc: 0.314000\n",
      "(Epoch 19 / 25) train acc: 0.922000; val_acc: 0.290000\n",
      "(Epoch 20 / 25) train acc: 0.944000; val_acc: 0.306000\n",
      "(Iteration 101 / 125) loss: 0.156105\n",
      "(Epoch 21 / 25) train acc: 0.968000; val_acc: 0.302000\n",
      "(Epoch 22 / 25) train acc: 0.978000; val_acc: 0.302000\n",
      "(Epoch 23 / 25) train acc: 0.976000; val_acc: 0.289000\n",
      "(Epoch 24 / 25) train acc: 0.986000; val_acc: 0.285000\n",
      "(Epoch 25 / 25) train acc: 0.978000; val_acc: 0.311000\n",
      "(Iteration 1 / 125) loss: 2.298716\n",
      "(Epoch 0 / 25) train acc: 0.132000; val_acc: 0.146000\n",
      "(Epoch 1 / 25) train acc: 0.118000; val_acc: 0.131000\n",
      "(Epoch 2 / 25) train acc: 0.220000; val_acc: 0.214000\n",
      "(Epoch 3 / 25) train acc: 0.206000; val_acc: 0.180000\n",
      "(Epoch 4 / 25) train acc: 0.220000; val_acc: 0.193000\n",
      "(Epoch 5 / 25) train acc: 0.264000; val_acc: 0.229000\n",
      "(Epoch 6 / 25) train acc: 0.268000; val_acc: 0.203000\n",
      "(Epoch 7 / 25) train acc: 0.266000; val_acc: 0.212000\n",
      "(Epoch 8 / 25) train acc: 0.282000; val_acc: 0.236000\n",
      "(Epoch 9 / 25) train acc: 0.310000; val_acc: 0.255000\n",
      "(Epoch 10 / 25) train acc: 0.320000; val_acc: 0.267000\n",
      "(Epoch 11 / 25) train acc: 0.338000; val_acc: 0.273000\n",
      "(Epoch 12 / 25) train acc: 0.346000; val_acc: 0.278000\n",
      "(Epoch 13 / 25) train acc: 0.332000; val_acc: 0.279000\n",
      "(Epoch 14 / 25) train acc: 0.328000; val_acc: 0.284000\n",
      "(Epoch 15 / 25) train acc: 0.354000; val_acc: 0.271000\n",
      "(Epoch 16 / 25) train acc: 0.386000; val_acc: 0.277000\n",
      "(Epoch 17 / 25) train acc: 0.388000; val_acc: 0.297000\n",
      "(Epoch 18 / 25) train acc: 0.402000; val_acc: 0.280000\n",
      "(Epoch 19 / 25) train acc: 0.388000; val_acc: 0.274000\n",
      "(Epoch 20 / 25) train acc: 0.386000; val_acc: 0.274000\n",
      "(Iteration 101 / 125) loss: 1.919649\n",
      "(Epoch 21 / 25) train acc: 0.402000; val_acc: 0.272000\n",
      "(Epoch 22 / 25) train acc: 0.440000; val_acc: 0.286000\n",
      "(Epoch 23 / 25) train acc: 0.458000; val_acc: 0.295000\n",
      "(Epoch 24 / 25) train acc: 0.462000; val_acc: 0.311000\n",
      "(Epoch 25 / 25) train acc: 0.466000; val_acc: 0.297000\n"
     ]
    }
   ],
   "source": [
    "# Train two identical nets, one with dropout and one without\n",
    "\n",
    "num_train = 500\n",
    "small_data = {\n",
    "  'X_train': data['X_train'][:num_train],\n",
    "  'y_train': data['y_train'][:num_train],\n",
    "  'X_val': data['X_val'],\n",
    "  'y_val': data['y_val'],\n",
    "}\n",
    "\n",
    "solvers = {}\n",
    "dropout_choices = [0, 0.6]\n",
    "for dropout in dropout_choices:\n",
    "  model = FullyConnectedNet([100, 100, 100], dropout=dropout)\n",
    "\n",
    "  solver = Solver(model, small_data,\n",
    "                  num_epochs=25, batch_size=100,\n",
    "                  update_rule='adam',\n",
    "                  optim_config={\n",
    "                    'learning_rate': 5e-4,\n",
    "                  },\n",
    "                  verbose=True, print_every=100)\n",
    "  solver.train()\n",
    "  solvers[dropout] = solver"
   ]
  },
  {
   "cell_type": "code",
   "execution_count": 7,
   "metadata": {},
   "outputs": [
    {
     "data": {
      "image/png": "[encoded data removed]",
      "text/plain": [
       "<Figure size 1500x1500 with 2 Axes>"
      ]
     },
     "metadata": {},
     "output_type": "display_data"
    }
   ],
   "source": [
    "# Plot train and validation accuracies of the two models\n",
    "\n",
    "train_accs = []\n",
    "val_accs = []\n",
    "for dropout in dropout_choices:\n",
    "  solver = solvers[dropout]\n",
    "  train_accs.append(solver.train_acc_history[-1])\n",
    "  val_accs.append(solver.val_acc_history[-1])\n",
    "\n",
    "plt.subplot(3, 1, 1)\n",
    "for dropout in dropout_choices:\n",
    "  plt.plot(solvers[dropout].train_acc_history, 'o', label='%.2f dropout' % dropout)\n",
    "plt.title('Train accuracy')\n",
    "plt.xlabel('Epoch')\n",
    "plt.ylabel('Accuracy')\n",
    "plt.legend(ncol=2, loc='lower right')\n",
    "  \n",
    "plt.subplot(3, 1, 2)\n",
    "for dropout in dropout_choices:\n",
    "  plt.plot(solvers[dropout].val_acc_history, 'o', label='%.2f dropout' % dropout)\n",
    "plt.title('Val accuracy')\n",
    "plt.xlabel('Epoch')\n",
    "plt.ylabel('Accuracy')\n",
    "plt.legend(ncol=2, loc='lower right')\n",
    "\n",
    "plt.gcf().set_size_inches(15, 15)\n",
    "plt.show()"
   ]
  },
  {
   "cell_type": "markdown",
   "metadata": {},
   "source": [
    "## Question\n",
    "\n",
    "Based off the results of this experiment, is dropout performing regularization?  Explain your answer."
   ]
  },
  {
   "cell_type": "markdown",
   "metadata": {},
   "source": [
    "## Answer:\n"
   ]
  },
  {
   "cell_type": "markdown",
   "metadata": {},
   "source": [
    "## Final part of the assignment\n",
    "\n",
    "Get over 55% validation accuracy on CIFAR-10 by using the layers you have implemented.  You will be graded according to the following equation:\n",
    "\n",
    "min(floor((X - 32%)) / 23%, 1) \n",
    "where if you get 55% or higher validation accuracy, you get full points."
   ]
  },
  {
   "cell_type": "code",
   "execution_count": 16,
   "metadata": {},
   "outputs": [
    {
     "name": "stdout",
     "output_type": "stream",
     "text": [
      "(Iteration 1 / 9800) loss: 2.365634\n",
      "(Epoch 0 / 20) train acc: 0.142000; val_acc: 0.142000\n",
      "(Iteration 101 / 9800) loss: 1.827906\n",
      "(Iteration 201 / 9800) loss: 1.850544\n",
      "(Iteration 301 / 9800) loss: 1.656216\n",
      "(Iteration 401 / 9800) loss: 1.923435\n",
      "(Epoch 1 / 20) train acc: 0.435000; val_acc: 0.436000\n",
      "(Iteration 501 / 9800) loss: 1.568754\n",
      "(Iteration 601 / 9800) loss: 1.772911\n",
      "(Iteration 701 / 9800) loss: 1.836810\n",
      "(Iteration 801 / 9800) loss: 1.617378\n",
      "(Iteration 901 / 9800) loss: 1.523579\n",
      "(Epoch 2 / 20) train acc: 0.453000; val_acc: 0.466000\n",
      "(Iteration 1001 / 9800) loss: 1.552844\n",
      "(Iteration 1101 / 9800) loss: 1.444220\n",
      "(Iteration 1201 / 9800) loss: 1.583052\n",
      "(Iteration 1301 / 9800) loss: 1.714050\n",
      "(Iteration 1401 / 9800) loss: 1.578520\n",
      "(Epoch 3 / 20) train acc: 0.514000; val_acc: 0.486000\n",
      "(Iteration 1501 / 9800) loss: 1.513759\n",
      "(Iteration 1601 / 9800) loss: 1.383558\n",
      "(Iteration 1701 / 9800) loss: 1.730868\n",
      "(Iteration 1801 / 9800) loss: 1.529574\n",
      "(Iteration 1901 / 9800) loss: 1.562228\n",
      "(Epoch 4 / 20) train acc: 0.526000; val_acc: 0.494000\n",
      "(Iteration 2001 / 9800) loss: 1.389955\n",
      "(Iteration 2101 / 9800) loss: 1.552632\n",
      "(Iteration 2201 / 9800) loss: 1.658869\n",
      "(Iteration 2301 / 9800) loss: 1.773607\n",
      "(Iteration 2401 / 9800) loss: 1.361943\n",
      "(Epoch 5 / 20) train acc: 0.508000; val_acc: 0.518000\n",
      "(Iteration 2501 / 9800) loss: 1.358455\n",
      "(Iteration 2601 / 9800) loss: 1.377626\n",
      "(Iteration 2701 / 9800) loss: 1.434334\n",
      "(Iteration 2801 / 9800) loss: 1.536311\n",
      "(Iteration 2901 / 9800) loss: 1.446391\n",
      "(Epoch 6 / 20) train acc: 0.557000; val_acc: 0.541000\n",
      "(Iteration 3001 / 9800) loss: 1.397191\n",
      "(Iteration 3101 / 9800) loss: 1.396085\n",
      "(Iteration 3201 / 9800) loss: 1.366863\n",
      "(Iteration 3301 / 9800) loss: 1.341821\n",
      "(Iteration 3401 / 9800) loss: 1.279000\n",
      "(Epoch 7 / 20) train acc: 0.547000; val_acc: 0.536000\n",
      "(Iteration 3501 / 9800) loss: 1.245752\n",
      "(Iteration 3601 / 9800) loss: 1.549192\n",
      "(Iteration 3701 / 9800) loss: 1.354927\n",
      "(Iteration 3801 / 9800) loss: 1.327828\n",
      "(Iteration 3901 / 9800) loss: 1.301905\n",
      "(Epoch 8 / 20) train acc: 0.571000; val_acc: 0.542000\n",
      "(Iteration 4001 / 9800) loss: 1.575569\n",
      "(Iteration 4101 / 9800) loss: 1.369311\n",
      "(Iteration 4201 / 9800) loss: 1.304543\n",
      "(Iteration 4301 / 9800) loss: 1.404716\n",
      "(Iteration 4401 / 9800) loss: 1.443360\n",
      "(Epoch 9 / 20) train acc: 0.577000; val_acc: 0.539000\n",
      "(Iteration 4501 / 9800) loss: 1.344730\n",
      "(Iteration 4601 / 9800) loss: 1.250922\n",
      "(Iteration 4701 / 9800) loss: 1.448743\n",
      "(Iteration 4801 / 9800) loss: 1.028282\n",
      "(Epoch 10 / 20) train acc: 0.579000; val_acc: 0.554000\n",
      "(Iteration 4901 / 9800) loss: 1.487786\n",
      "(Iteration 5001 / 9800) loss: 1.356442\n",
      "(Iteration 5101 / 9800) loss: 1.249669\n",
      "(Iteration 5201 / 9800) loss: 1.162910\n",
      "(Iteration 5301 / 9800) loss: 1.436836\n",
      "(Epoch 11 / 20) train acc: 0.629000; val_acc: 0.557000\n",
      "(Iteration 5401 / 9800) loss: 1.369523\n",
      "(Iteration 5501 / 9800) loss: 1.566603\n",
      "(Iteration 5601 / 9800) loss: 1.239353\n",
      "(Iteration 5701 / 9800) loss: 1.452583\n",
      "(Iteration 5801 / 9800) loss: 1.564210\n",
      "(Epoch 12 / 20) train acc: 0.592000; val_acc: 0.548000\n",
      "(Iteration 5901 / 9800) loss: 1.306095\n",
      "(Iteration 6001 / 9800) loss: 1.355831\n",
      "(Iteration 6101 / 9800) loss: 1.204117\n",
      "(Iteration 6201 / 9800) loss: 1.175398\n",
      "(Iteration 6301 / 9800) loss: 1.187814\n",
      "(Epoch 13 / 20) train acc: 0.603000; val_acc: 0.550000\n",
      "(Iteration 6401 / 9800) loss: 1.156085\n",
      "(Iteration 6501 / 9800) loss: 1.249197\n",
      "(Iteration 6601 / 9800) loss: 1.224285\n",
      "(Iteration 6701 / 9800) loss: 1.294563\n",
      "(Iteration 6801 / 9800) loss: 1.371945\n",
      "(Epoch 14 / 20) train acc: 0.611000; val_acc: 0.562000\n",
      "(Iteration 6901 / 9800) loss: 1.307262\n",
      "(Iteration 7001 / 9800) loss: 1.263299\n",
      "(Iteration 7101 / 9800) loss: 1.308232\n",
      "(Iteration 7201 / 9800) loss: 1.354308\n",
      "(Iteration 7301 / 9800) loss: 1.332023\n",
      "(Epoch 15 / 20) train acc: 0.642000; val_acc: 0.557000\n",
      "(Iteration 7401 / 9800) loss: 1.365086\n",
      "(Iteration 7501 / 9800) loss: 1.227699\n",
      "(Iteration 7601 / 9800) loss: 1.321664\n",
      "(Iteration 7701 / 9800) loss: 1.334183\n",
      "(Iteration 7801 / 9800) loss: 1.344187\n",
      "(Epoch 16 / 20) train acc: 0.648000; val_acc: 0.559000\n",
      "(Iteration 7901 / 9800) loss: 1.318033\n",
      "(Iteration 8001 / 9800) loss: 1.235373\n",
      "(Iteration 8101 / 9800) loss: 1.202739\n",
      "(Iteration 8201 / 9800) loss: 1.052798\n",
      "(Iteration 8301 / 9800) loss: 1.082649\n",
      "(Epoch 17 / 20) train acc: 0.638000; val_acc: 0.551000\n",
      "(Iteration 8401 / 9800) loss: 1.431415\n",
      "(Iteration 8501 / 9800) loss: 1.222713\n",
      "(Iteration 8601 / 9800) loss: 1.127362\n",
      "(Iteration 8701 / 9800) loss: 1.394118\n",
      "(Iteration 8801 / 9800) loss: 1.200992\n",
      "(Epoch 18 / 20) train acc: 0.626000; val_acc: 0.562000\n",
      "(Iteration 8901 / 9800) loss: 1.287656\n",
      "(Iteration 9001 / 9800) loss: 1.396619\n",
      "(Iteration 9101 / 9800) loss: 1.234833\n",
      "(Iteration 9201 / 9800) loss: 1.216223\n",
      "(Iteration 9301 / 9800) loss: 1.067358\n",
      "(Epoch 19 / 20) train acc: 0.661000; val_acc: 0.570000\n",
      "(Iteration 9401 / 9800) loss: 1.206838\n",
      "(Iteration 9501 / 9800) loss: 1.318414\n",
      "(Iteration 9601 / 9800) loss: 1.097743\n",
      "(Iteration 9701 / 9800) loss: 1.218423\n",
      "(Epoch 20 / 20) train acc: 0.655000; val_acc: 0.572000\n"
     ]
    }
   ],
   "source": [
    "# ================================================================ #\n",
    "# YOUR CODE HERE:\n",
    "#   Implement a FC-net that achieves at least 55% validation accuracy\n",
    "#   on CIFAR-10.\n",
    "# ================================================================ #\n",
    "\n",
    "layer_dims = [600, 600, 600, 600]\n",
    "learning_rate = 1e-3\n",
    "lr_decay = 0.95\n",
    "dropout = 0.55\n",
    "update_rule = 'adam'\n",
    "\n",
    "model = FullyConnectedNet(layer_dims, dropout = dropout, use_batchnorm = True)\n",
    "\n",
    "solver = Solver(model, data,\n",
    "              num_epochs = 20, batch_size = 100,\n",
    "              update_rule = update_rule,\n",
    "              optim_config = {\n",
    "                'learning_rate': learning_rate,\n",
    "              },\n",
    "              lr_decay = lr_decay,\n",
    "              verbose = True, print_every = 100)\n",
    "solver.train()\n",
    "\n",
    "# ================================================================ #\n",
    "# END YOUR CODE HERE\n",
    "# ================================================================ #"
   ]
  },
  {
   "cell_type": "code",
   "execution_count": null,
   "metadata": {},
   "outputs": [],
   "source": []
  }
 ],
 "metadata": {
  "kernelspec": {
   "display_name": "Python 3 (ipykernel)",
   "language": "python",
   "name": "python3"
  },
  "language_info": {
   "codemirror_mode": {
    "name": "ipython",
    "version": 3
   },
   "file_extension": ".py",
   "mimetype": "text/x-python",
   "name": "python",
   "nbconvert_exporter": "python",
   "pygments_lexer": "ipython3",
   "version": "3.11.6"
  }
 },
 "nbformat": 4,
 "nbformat_minor": 4
}
